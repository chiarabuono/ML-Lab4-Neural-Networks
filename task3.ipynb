{
  "nbformat": 4,
  "nbformat_minor": 0,
  "metadata": {
    "colab": {
      "provenance": [],
      "authorship_tag": "ABX9TyMcJmGhUzEuusYVtVkZUvBr",
      "include_colab_link": true
    },
    "kernelspec": {
      "name": "python3",
      "display_name": "Python 3"
    },
    "language_info": {
      "name": "python"
    }
  },
  "cells": [
    {
      "cell_type": "markdown",
      "metadata": {
        "id": "view-in-github",
        "colab_type": "text"
      },
      "source": [
        "<a href=\"https://colab.research.google.com/github/chiarabuono/ML-Lab4-Neural-Networks/blob/main/task3.ipynb\" target=\"_parent\"><img src=\"https://colab.research.google.com/assets/colab-badge.svg\" alt=\"Open In Colab\"/></a>"
      ]
    },
    {
      "cell_type": "code",
      "execution_count": 78,
      "metadata": {
        "id": "V7nVsD1W13Cu"
      },
      "outputs": [],
      "source": [
        "import pandas as pd\n",
        "import numpy as np\n",
        "import matplotlib.pyplot as plt\n",
        "import matplotlib.image as im\n",
        "import seaborn as sns               # For visualization\n",
        "\n",
        "import tensorflow as tf\n",
        "from tensorflow.keras.optimizers import Adam\n",
        "from tensorflow.keras.callbacks import EarlyStopping\n",
        "from tensorflow.keras.models import Sequential\n",
        "from tensorflow.keras.layers import Dense, Input\n",
        "from tensorflow.keras.utils import plot_model\n",
        "\n",
        "from sklearn.metrics import classification_report, confusion_matrix\n",
        "from sklearn.model_selection import train_test_split\n",
        "from sklearn.preprocessing import StandardScaler"
      ]
    },
    {
      "cell_type": "code",
      "source": [
        "data = pd.read_csv('breast_cancer/wdbc.data',delimiter = ',',header=None)\n",
        "\n",
        "# Remove patient ID column\n",
        "data.drop(data.columns[0], axis=1, inplace=True)\n",
        "\n",
        "# Select target column and removing it from the dataset\n",
        "targets = data.iloc[:, 0]\n",
        "targets = targets.map({'M': 0, 'B': 1})   # (M = malignant, B = benign)\n",
        "data.drop(data.columns[0], axis=1, inplace=True)\n",
        "\n",
        "# Split data to training and testing data\n",
        "X_train, X_test, y_train, y_test = train_test_split(data,targets,test_size=0.25,random_state=101)\n",
        "\n",
        "# Scale data\n",
        "scaler = StandardScaler()\n",
        "X_train = scaler.fit_transform(X_train)\n",
        "X_test = scaler.transform(X_test)\n",
        "\n",
        "# Check correct data dimensions\n",
        "print(f\"X_train {X_train.shape} and X_test {X_test.shape}\")\n",
        "print(f\"y_train {y_train.shape} and y_test {y_test.shape}\")"
      ],
      "metadata": {
        "id": "FD85r5QdC9i8"
      },
      "execution_count": null,
      "outputs": []
    },
    {
      "cell_type": "code",
      "source": [
        "# Build neural network architecture\n",
        "model = Sequential()\n",
        "model.add(Input(shape=(data.shape[1],)))  # Input layer specifies the shape\n",
        "model.add(Dense(512, activation='sigmoid'))\n",
        "model.add(Dense(64, activation='sigmoid'))\n",
        "model.add(Dense(16, activation='sigmoid'))\n",
        "model.add(Dense(1, activation='sigmoid'))  # Output layer\n",
        "\n",
        "# Compile the model\n",
        "opt = tf.keras.optimizers.Adam(learning_rate=0.001)\n",
        "es = EarlyStopping(patience=10, restore_best_weights=True)\n",
        "model.compile(optimizer=opt, loss='binary_crossentropy', metrics=['accuracy'])\n",
        "\n",
        "# Set fixed seed for reproducibility\n",
        "np.random.seed(1)"
      ],
      "metadata": {
        "id": "c086Uqy1EHm8"
      },
      "execution_count": 73,
      "outputs": []
    },
    {
      "cell_type": "code",
      "source": [
        "# Train the model\n",
        "history = model.fit(X_train,y_train, validation_split=0.2, epochs=500, batch_size=10, callbacks=[es])\n",
        "\n",
        "# Print summary data\n",
        "model.summary()\n",
        "\n",
        "# Get the outputs corresponding to all the data\n",
        "outputs = model.predict(data)"
      ],
      "metadata": {
        "id": "JJ3Y40veEizf",
        "collapsed": true
      },
      "execution_count": null,
      "outputs": []
    },
    {
      "cell_type": "code",
      "source": [
        "validation_stop_epoch = np.array(history.history['val_loss']).argmin()\n",
        "print('Stop epoch: %d' % validation_stop_epoch)\n",
        "print('Expected RMS error: %.2E' % history.history['val_loss'][validation_stop_epoch])"
      ],
      "metadata": {
        "id": "Ya1ksdwAIIxD"
      },
      "execution_count": null,
      "outputs": []
    },
    {
      "cell_type": "code",
      "source": [
        "# Plot training & validation accuracy values\n",
        "plt.plot(history.history['loss'])\n",
        "plt.plot(history.history['val_loss'])\n",
        "plt.title('Training history')\n",
        "plt.ylabel('Performance index')\n",
        "plt.xlabel('Epoch')\n",
        "plt.legend(['MSE (train)', 'MSE (valid)'], loc='upper right')\n",
        "plt.grid()\n",
        "plt.show()\n",
        "\n",
        "# Plot target-output relationship (ideal: targets == outputs, straight line)\n",
        "plt.plot(targets,outputs,'ok')\n",
        "plt.title('Output scatter plot')\n",
        "plt.xlabel('targets')\n",
        "plt.ylabel('outputs')\n",
        "plt.grid()\n",
        "plt.show()"
      ],
      "metadata": {
        "id": "eFYvoBTDH2X_"
      },
      "execution_count": null,
      "outputs": []
    },
    {
      "cell_type": "code",
      "source": [
        "print(\"Train score:\", model.evaluate(X_train, y_train)) # Evaluate returns loss and accuracy on train set\n",
        "print(\"Test score:\", model.evaluate(X_test, y_test)) # Evaluate returns loss and accuracy on test set\n",
        "\n",
        "# Predict the target values for the test set\n",
        "y_pred_prob = model.predict(X_test)\n",
        "y_pred = (y_pred_prob > 0.5).astype(int)\n",
        "\n",
        "\n",
        "# Compute the confusion matrix\n",
        "cm = confusion_matrix(y_test, y_pred)\n",
        "plt.figure(figsize=(8, 6))\n",
        "sns.heatmap(cm, annot=True, fmt='d', cmap = 'Blues')\n",
        "plt.title('Confusion Matrix')\n",
        "plt.xlabel('Predicted Label')\n",
        "plt.ylabel('True Label')\n",
        "plt.show()"
      ],
      "metadata": {
        "id": "4v1YEOWIGtlM"
      },
      "execution_count": null,
      "outputs": []
    }
  ]
}